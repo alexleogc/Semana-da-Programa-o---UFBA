{
 "cells": [
  {
   "cell_type": "markdown",
   "metadata": {},
   "source": [
    "# <center> Numpy\n",
    "    \n",
    "#### Numpy é um pacote de programação cientifica para python que fornece uma alta perfomance para arrays multidimensionais (objetos semelhantes a vetores e matrizes em fortran e C)\n",
    "\n",
    "<ol>\n",
    "  <li>Um poderoso objeto denominado \"array\"; </li> \n",
    "  <li>Funções matématicas sofisticadas já implementadas;</li>\n",
    "  <li>Ferramentas para integração de códigos em C/C++ e Fortran; e</li>\n",
    "  <li>Algoritmos de algebra linear, tranformada de fourier, diversas funções de números aleatórios entre outras</li>\n",
    "</ol>\n",
    "\n",
    "<center> Documentação original <a href=\"https://www.numpy.org/devdocs/reference/\"> Guide to Numpy </a> \n",
    "<center> Documentação (site) <a href=\"https://www.numpy.org/devdocs/reference/\"> Numpy Reference </a> \n"
   ]
  },
  {
   "cell_type": "code",
   "execution_count": 3,
   "metadata": {},
   "outputs": [],
   "source": [
    "import numpy as np # importando o numpy"
   ]
  },
  {
   "cell_type": "markdown",
   "metadata": {},
   "source": [
    "### Criando arrays"
   ]
  },
  {
   "cell_type": "code",
   "execution_count": 2,
   "metadata": {},
   "outputs": [
    {
     "data": {
      "text/plain": [
       "[2, 1, 4, 5]"
      ]
     },
     "execution_count": 2,
     "metadata": {},
     "output_type": "execute_result"
    }
   ],
   "source": [
    "l = [2,1,4,5]\n",
    "l"
   ]
  },
  {
   "cell_type": "code",
   "execution_count": 6,
   "metadata": {},
   "outputs": [
    {
     "data": {
      "text/plain": [
       "array([2, 1, 4, 5])"
      ]
     },
     "execution_count": 6,
     "metadata": {},
     "output_type": "execute_result"
    }
   ],
   "source": [
    "arr = np.asarray(l) #Transformando a lista em um array\n",
    "arr"
   ]
  },
  {
   "cell_type": "code",
   "execution_count": 7,
   "metadata": {},
   "outputs": [
    {
     "data": {
      "text/plain": [
       "[[2, 1, 3], [2, 2, 2], [5, 1, 3]]"
      ]
     },
     "execution_count": 7,
     "metadata": {},
     "output_type": "execute_result"
    }
   ],
   "source": [
    "l2d = [[2,1,3],[2,2,2],[5,1,3]]\n",
    "l2d"
   ]
  },
  {
   "cell_type": "code",
   "execution_count": 9,
   "metadata": {},
   "outputs": [
    {
     "data": {
      "text/plain": [
       "array([[2, 1, 3],\n",
       "       [2, 2, 2],\n",
       "       [5, 1, 3]])"
      ]
     },
     "execution_count": 9,
     "metadata": {},
     "output_type": "execute_result"
    }
   ],
   "source": [
    "arr2d = np.asarray(l2d) # Criando um array 2d\n",
    "arr2d"
   ]
  },
  {
   "cell_type": "code",
   "execution_count": 10,
   "metadata": {},
   "outputs": [
    {
     "data": {
      "text/plain": [
       "array([ 0,  1,  2,  3,  4,  5,  6,  7,  8,  9, 10])"
      ]
     },
     "execution_count": 10,
     "metadata": {},
     "output_type": "execute_result"
    }
   ],
   "source": [
    "np.arange(0,11) #Semelhante ao range (built-in function) do loop"
   ]
  },
  {
   "cell_type": "code",
   "execution_count": 11,
   "metadata": {},
   "outputs": [
    {
     "data": {
      "text/plain": [
       "array([ 0,  2,  4,  6,  8, 10])"
      ]
     },
     "execution_count": 11,
     "metadata": {},
     "output_type": "execute_result"
    }
   ],
   "source": [
    "np.arange(0,11,2) #Construindo um array que vai de 0 até 10 com um passo de 2 em 2"
   ]
  },
  {
   "cell_type": "code",
   "execution_count": 13,
   "metadata": {},
   "outputs": [
    {
     "data": {
      "text/plain": [
       "array([0, 3, 6, 9])"
      ]
     },
     "execution_count": 13,
     "metadata": {},
     "output_type": "execute_result"
    }
   ],
   "source": [
    "np.arange(0,11,3) #Construindo um array que vai de 0 até 10 com um passo de 3 em 3"
   ]
  },
  {
   "cell_type": "markdown",
   "metadata": {},
   "source": [
    "#### Podemos criar arrays preenchidos com valores nulos ou de valor unitário"
   ]
  },
  {
   "cell_type": "code",
   "execution_count": 14,
   "metadata": {},
   "outputs": [
    {
     "data": {
      "text/plain": [
       "array([0., 0., 0.])"
      ]
     },
     "execution_count": 14,
     "metadata": {},
     "output_type": "execute_result"
    }
   ],
   "source": [
    "np.zeros(shape=3)"
   ]
  },
  {
   "cell_type": "code",
   "execution_count": 15,
   "metadata": {},
   "outputs": [
    {
     "data": {
      "text/plain": [
       "array([0., 0., 0.])"
      ]
     },
     "execution_count": 15,
     "metadata": {},
     "output_type": "execute_result"
    }
   ],
   "source": [
    "np.zeros(3)"
   ]
  },
  {
   "cell_type": "code",
   "execution_count": 16,
   "metadata": {},
   "outputs": [
    {
     "data": {
      "text/plain": [
       "array([[0., 0., 0., 0.],\n",
       "       [0., 0., 0., 0.],\n",
       "       [0., 0., 0., 0.]])"
      ]
     },
     "execution_count": 16,
     "metadata": {},
     "output_type": "execute_result"
    }
   ],
   "source": [
    "np.zeros(shape=(3,4)) # Para arrays multidimensionais é necessário passar uma tupla"
   ]
  },
  {
   "cell_type": "code",
   "execution_count": 17,
   "metadata": {},
   "outputs": [
    {
     "data": {
      "text/plain": [
       "array([1., 1., 1., 1., 1.])"
      ]
     },
     "execution_count": 17,
     "metadata": {},
     "output_type": "execute_result"
    }
   ],
   "source": [
    "np.ones(5)"
   ]
  },
  {
   "cell_type": "code",
   "execution_count": 19,
   "metadata": {},
   "outputs": [
    {
     "data": {
      "text/plain": [
       "array([[1., 1.],\n",
       "       [1., 1.],\n",
       "       [1., 1.],\n",
       "       [1., 1.],\n",
       "       [1., 1.]])"
      ]
     },
     "execution_count": 19,
     "metadata": {},
     "output_type": "execute_result"
    }
   ],
   "source": [
    "np.ones((5,2))"
   ]
  },
  {
   "cell_type": "markdown",
   "metadata": {},
   "source": [
    "#### Para consultar as dimensões de um array"
   ]
  },
  {
   "cell_type": "code",
   "execution_count": 25,
   "metadata": {},
   "outputs": [],
   "source": [
    "arr1d = np.zeros(5)"
   ]
  },
  {
   "cell_type": "code",
   "execution_count": 26,
   "metadata": {},
   "outputs": [
    {
     "data": {
      "text/plain": [
       "(5,)"
      ]
     },
     "execution_count": 26,
     "metadata": {},
     "output_type": "execute_result"
    }
   ],
   "source": [
    "np.shape(arr1d) # 5 linhas"
   ]
  },
  {
   "cell_type": "code",
   "execution_count": 27,
   "metadata": {},
   "outputs": [],
   "source": [
    "arr2d = np.zeros((3,2))"
   ]
  },
  {
   "cell_type": "code",
   "execution_count": 29,
   "metadata": {},
   "outputs": [
    {
     "data": {
      "text/plain": [
       "(3, 2)"
      ]
     },
     "execution_count": 29,
     "metadata": {},
     "output_type": "execute_result"
    }
   ],
   "source": [
    "np.shape(arr2d) # 3 linhas e 2 colunas"
   ]
  },
  {
   "cell_type": "code",
   "execution_count": 120,
   "metadata": {},
   "outputs": [
    {
     "data": {
      "text/plain": [
       "array([0., 0., 0., 0., 0., 0.])"
      ]
     },
     "execution_count": 120,
     "metadata": {},
     "output_type": "execute_result"
    }
   ],
   "source": [
    "arr2d.reshape(3*2)"
   ]
  },
  {
   "cell_type": "markdown",
   "metadata": {},
   "source": [
    "#### Caso saibamos o inicio e o fim do nosso array, e queremos um determinado número de elementos"
   ]
  },
  {
   "cell_type": "code",
   "execution_count": 22,
   "metadata": {},
   "outputs": [
    {
     "data": {
      "text/plain": [
       "array([ 0.        ,  0.52631579,  1.05263158,  1.57894737,  2.10526316,\n",
       "        2.63157895,  3.15789474,  3.68421053,  4.21052632,  4.73684211,\n",
       "        5.26315789,  5.78947368,  6.31578947,  6.84210526,  7.36842105,\n",
       "        7.89473684,  8.42105263,  8.94736842,  9.47368421, 10.        ])"
      ]
     },
     "execution_count": 22,
     "metadata": {},
     "output_type": "execute_result"
    }
   ],
   "source": [
    "np.linspace(0,10,20) # Criando uma lista de 0 a 10 particionada em 20 valores de passos iguais"
   ]
  },
  {
   "cell_type": "code",
   "execution_count": 24,
   "metadata": {},
   "outputs": [
    {
     "data": {
      "text/plain": [
       "array([ 0. ,  0.5,  1. ,  1.5,  2. ,  2.5,  3. ,  3.5,  4. ,  4.5,  5. ,\n",
       "        5.5,  6. ,  6.5,  7. ,  7.5,  8. ,  8.5,  9. ,  9.5, 10. ])"
      ]
     },
     "execution_count": 24,
     "metadata": {},
     "output_type": "execute_result"
    }
   ],
   "source": [
    "np.linspace(0,10,21)# Criando uma lista de 0 a 10 particionada em 21 valores de passos iguais"
   ]
  },
  {
   "cell_type": "markdown",
   "metadata": {},
   "source": [
    "#### Criando uma matriz identidade"
   ]
  },
  {
   "cell_type": "code",
   "execution_count": 31,
   "metadata": {},
   "outputs": [
    {
     "data": {
      "text/plain": [
       "array([[1., 0., 0.],\n",
       "       [0., 1., 0.],\n",
       "       [0., 0., 1.]])"
      ]
     },
     "execution_count": 31,
     "metadata": {},
     "output_type": "execute_result"
    }
   ],
   "source": [
    "np.eye(3) # A matriz identidade é sempre uma matriz quadrada"
   ]
  },
  {
   "cell_type": "markdown",
   "metadata": {},
   "source": [
    "#### Slices e index com arrays \n",
    "\n",
    "Slices para arrays 1D são semelhantes àqueles utilizados em listas"
   ]
  },
  {
   "cell_type": "code",
   "execution_count": 34,
   "metadata": {},
   "outputs": [
    {
     "data": {
      "text/plain": [
       "array([ 2. ,  2.5,  3. ,  3.5,  4. ,  4.5,  5. ,  5.5,  6. ,  6.5,  7. ,\n",
       "        7.5,  8. ,  8.5,  9. ,  9.5, 10. ])"
      ]
     },
     "execution_count": 34,
     "metadata": {},
     "output_type": "execute_result"
    }
   ],
   "source": [
    "arr = np.linspace(2,10,17)\n",
    "arr"
   ]
  },
  {
   "cell_type": "code",
   "execution_count": 35,
   "metadata": {},
   "outputs": [
    {
     "data": {
      "text/plain": [
       "array([3. , 3.5, 4. , 4.5])"
      ]
     },
     "execution_count": 35,
     "metadata": {},
     "output_type": "execute_result"
    }
   ],
   "source": [
    "arr[2:6]"
   ]
  },
  {
   "cell_type": "code",
   "execution_count": 38,
   "metadata": {},
   "outputs": [
    {
     "data": {
      "text/plain": [
       "array([3., 4., 5., 6., 7., 8., 9.])"
      ]
     },
     "execution_count": 38,
     "metadata": {},
     "output_type": "execute_result"
    }
   ],
   "source": [
    "arr[2:-1:2]"
   ]
  },
  {
   "cell_type": "markdown",
   "metadata": {},
   "source": [
    "##### Pode-se realizar slices em arrays 2D de duas formas: \n",
    "\n",
    "<ol>\n",
    "    <li>Notação com dois brackets; ou</li>\n",
    "    <li>Notação com um bracket.</li>\n",
    "<ol>"
   ]
  },
  {
   "cell_type": "code",
   "execution_count": 40,
   "metadata": {},
   "outputs": [
    {
     "data": {
      "text/plain": [
       "array([[ 5, 10, 15],\n",
       "       [ 3,  6,  9],\n",
       "       [ 4,  8, 16]])"
      ]
     },
     "execution_count": 40,
     "metadata": {},
     "output_type": "execute_result"
    }
   ],
   "source": [
    "arr_2d = np.array(([5,10,15],[3,6,9],[4,8,16]))\n",
    "arr_2d"
   ]
  },
  {
   "cell_type": "code",
   "execution_count": 41,
   "metadata": {},
   "outputs": [
    {
     "data": {
      "text/plain": [
       "array([ 4,  8, 16])"
      ]
     },
     "execution_count": 41,
     "metadata": {},
     "output_type": "execute_result"
    }
   ],
   "source": [
    "arr_2d[2] #slice das linhas"
   ]
  },
  {
   "cell_type": "code",
   "execution_count": 56,
   "metadata": {},
   "outputs": [
    {
     "data": {
      "text/plain": [
       "15"
      ]
     },
     "execution_count": 56,
     "metadata": {},
     "output_type": "execute_result"
    }
   ],
   "source": [
    "arr_2d[0][2] #obtendo um elemento individual - Notação com dois brackets"
   ]
  },
  {
   "cell_type": "code",
   "execution_count": 59,
   "metadata": {},
   "outputs": [
    {
     "data": {
      "text/plain": [
       "array([ 4,  8, 16])"
      ]
     },
     "execution_count": 59,
     "metadata": {},
     "output_type": "execute_result"
    }
   ],
   "source": [
    "arr_2d[2,:] #Obtendo a linha 3 utilizando apenas um bracket"
   ]
  },
  {
   "cell_type": "code",
   "execution_count": 60,
   "metadata": {},
   "outputs": [
    {
     "data": {
      "text/plain": [
       "15"
      ]
     },
     "execution_count": 60,
     "metadata": {},
     "output_type": "execute_result"
    }
   ],
   "source": [
    "arr_2d[0,2] #Obtendo um elemento individual da matriz"
   ]
  },
  {
   "cell_type": "code",
   "execution_count": 62,
   "metadata": {},
   "outputs": [
    {
     "data": {
      "text/plain": [
       "array([[3, 6],\n",
       "       [4, 8]])"
      ]
     },
     "execution_count": 62,
     "metadata": {},
     "output_type": "execute_result"
    }
   ],
   "source": [
    "arr_2d[1:,0:2] #Obtendo a21, a22, a31, a32"
   ]
  },
  {
   "cell_type": "markdown",
   "metadata": {},
   "source": [
    "#### Fancy indexing permite selecionar linhas e colunas fora de ordem"
   ]
  },
  {
   "cell_type": "code",
   "execution_count": 65,
   "metadata": {},
   "outputs": [
    {
     "data": {
      "text/plain": [
       "array([ 5, 16])"
      ]
     },
     "execution_count": 65,
     "metadata": {},
     "output_type": "execute_result"
    }
   ],
   "source": [
    "arr_2d[[0,2],[0,2]] #fancy index"
   ]
  },
  {
   "cell_type": "code",
   "execution_count": 88,
   "metadata": {},
   "outputs": [
    {
     "data": {
      "text/plain": [
       "array([ 0,  1,  2,  3,  4,  5,  6,  7,  8,  9, 10])"
      ]
     },
     "execution_count": 88,
     "metadata": {},
     "output_type": "execute_result"
    }
   ],
   "source": [
    "arr = np.arange(0,11,1)\n",
    "arr"
   ]
  },
  {
   "cell_type": "code",
   "execution_count": 87,
   "metadata": {},
   "outputs": [
    {
     "data": {
      "text/plain": [
       "array([1, 4, 5, 9])"
      ]
     },
     "execution_count": 87,
     "metadata": {},
     "output_type": "execute_result"
    }
   ],
   "source": [
    "arr[[1,4,5,9]]"
   ]
  },
  {
   "cell_type": "markdown",
   "metadata": {},
   "source": [
    "### Geradores de números aleatórios"
   ]
  },
  {
   "cell_type": "code",
   "execution_count": 94,
   "metadata": {},
   "outputs": [
    {
     "data": {
      "text/plain": [
       "0.0744606679706894"
      ]
     },
     "execution_count": 94,
     "metadata": {},
     "output_type": "execute_result"
    }
   ],
   "source": [
    "np.random.rand() #gera números aleatórios entre 0 e 1 em uma distribuição uniforme"
   ]
  },
  {
   "cell_type": "code",
   "execution_count": 95,
   "metadata": {},
   "outputs": [
    {
     "data": {
      "text/plain": [
       "array([[0.00224952, 0.33327423, 0.55826004, 0.17313634, 0.17143183],\n",
       "       [0.56080691, 0.91167816, 0.92880204, 0.90993659, 0.94024818],\n",
       "       [0.7083216 , 0.83443827, 0.11990272, 0.24243558, 0.71466344],\n",
       "       [0.9894405 , 0.06876382, 0.59415584, 0.25384922, 0.66049535],\n",
       "       [0.76069281, 0.3743759 , 0.51492039, 0.11126095, 0.01771114]])"
      ]
     },
     "execution_count": 95,
     "metadata": {},
     "output_type": "execute_result"
    }
   ],
   "source": [
    "np.random.rand(5,5) # gerando uma matriz 5x5"
   ]
  },
  {
   "cell_type": "code",
   "execution_count": 103,
   "metadata": {},
   "outputs": [
    {
     "data": {
      "text/plain": [
       "144"
      ]
     },
     "execution_count": 103,
     "metadata": {},
     "output_type": "execute_result"
    }
   ],
   "source": [
    "np.random.randint(0,150) #número inteiro entre 0 e 150"
   ]
  },
  {
   "cell_type": "code",
   "execution_count": 104,
   "metadata": {},
   "outputs": [
    {
     "data": {
      "text/plain": [
       "array([ 33,  37,  66, 130,  58,  48,  18,  75,  19, 149,  42,  16, 124,\n",
       "        35,  43])"
      ]
     },
     "execution_count": 104,
     "metadata": {},
     "output_type": "execute_result"
    }
   ],
   "source": [
    "np.random.randint(0,150,15) #retorna 15 números aleatórios entre 0 e 150"
   ]
  },
  {
   "cell_type": "code",
   "execution_count": 108,
   "metadata": {},
   "outputs": [
    {
     "data": {
      "text/plain": [
       "array([ 0.6075993 ,  1.14251066, -1.54045558,  0.2258056 ,  1.05925717,\n",
       "       -0.94899044, -0.60949057, -0.96285296, -1.41927536,  0.22343496,\n",
       "        0.72671418,  1.61994638,  0.32661375,  0.4226866 ,  1.22820717,\n",
       "       -0.36490049,  1.02387198, -2.40402775,  0.64896676,  0.26400073,\n",
       "        1.47508192,  0.89221472, -1.9885951 , -0.83802891, -0.40798689,\n",
       "        0.6777227 , -0.1600117 ,  0.32536502, -0.26892386, -0.69836193,\n",
       "       -0.42795528, -0.14432834,  1.99516868,  1.98221676,  0.26983967,\n",
       "        0.1453227 , -0.21462826, -0.18739837, -0.24326902, -0.63854049,\n",
       "        0.87763199, -1.19824051,  1.1462571 , -0.08196032,  1.45711259,\n",
       "       -0.21955271,  0.54391718,  0.75450246, -0.43622402, -0.3752119 ])"
      ]
     },
     "execution_count": 108,
     "metadata": {},
     "output_type": "execute_result"
    }
   ],
   "source": [
    "np.random.normal(size=50) #retorna 50 números em uma distribuição gaussiana media 0 e desvio padrão 1"
   ]
  },
  {
   "cell_type": "code",
   "execution_count": 115,
   "metadata": {},
   "outputs": [
    {
     "data": {
      "text/plain": [
       "array([0.56582743, 2.87810637, 1.05842308, 0.0804262 , 0.20286835,\n",
       "       0.06756426, 0.05508546, 1.15244438, 0.59241756, 0.04605556,\n",
       "       2.15364546, 0.35026035, 0.38132442, 0.49778029, 0.23525512,\n",
       "       0.04537583, 0.54503263, 1.88420405, 5.62466905, 0.04134842,\n",
       "       2.49228567, 0.13028666, 2.54967555, 0.70219206, 1.80446678,\n",
       "       0.86149997, 0.8753901 , 2.00974927, 1.00789619, 3.26615216,\n",
       "       4.3402312 , 0.91220169, 0.30825441, 1.11192309, 0.14240013,\n",
       "       1.04043032, 0.18950356, 1.9659981 , 1.11024147, 0.25652338,\n",
       "       2.49819561, 0.12282599, 1.17649476, 0.83254423, 2.11046389,\n",
       "       1.18949549, 0.23644126, 0.61066655, 0.54009328, 0.22235527])"
      ]
     },
     "execution_count": 115,
     "metadata": {},
     "output_type": "execute_result"
    }
   ],
   "source": [
    "np.random.exponential(size=50) #retorna um array com 50 números aleatórios de uma distribuição gaussiana  de media 0 e desvio padrão 1"
   ]
  },
  {
   "cell_type": "code",
   "execution_count": 110,
   "metadata": {},
   "outputs": [],
   "source": [
    "import matplotlib.pyplot as plt #importando matplotlib\n",
    "#permite que as imagens sejam plotadas no jupyter notebook\n",
    "%matplotlib inline "
   ]
  },
  {
   "cell_type": "code",
   "execution_count": 114,
   "metadata": {},
   "outputs": [
    {
     "data": {
      "text/plain": [
       "(array([24., 18., 23., 19., 16., 24., 22., 14., 22., 17., 25., 15., 23.,\n",
       "        19., 19.]),\n",
       " array([0.0012946 , 0.06770786, 0.13412111, 0.20053437, 0.26694763,\n",
       "        0.33336089, 0.39977415, 0.4661874 , 0.53260066, 0.59901392,\n",
       "        0.66542718, 0.73184044, 0.79825369, 0.86466695, 0.93108021,\n",
       "        0.99749347]),\n",
       " <a list of 15 Patch objects>)"
      ]
     },
     "execution_count": 114,
     "metadata": {},
     "output_type": "execute_result"
    },
    {
     "data": {
      "image/png": "[encoded data removed]",
      "text/plain": [
       "<matplotlib.figure.Figure at 0x7fd43f766400>"
      ]
     },
     "metadata": {},
     "output_type": "display_data"
    }
   ],
   "source": [
    "plt.hist(np.random.rand(300),bins=15,edgecolor='black') #Plotando o histograma de uma distribuição uniforme"
   ]
  },
  {
   "cell_type": "code",
   "execution_count": 117,
   "metadata": {},
   "outputs": [
    {
     "data": {
      "text/plain": [
       "(array([ 3.,  0.,  7., 20., 21., 33., 50., 46., 45., 36., 21., 13.,  2.,\n",
       "         2.,  1.]),\n",
       " array([-3.23306732, -2.79123614, -2.34940495, -1.90757376, -1.46574257,\n",
       "        -1.02391138, -0.58208019, -0.14024901,  0.30158218,  0.74341337,\n",
       "         1.18524456,  1.62707575,  2.06890693,  2.51073812,  2.95256931,\n",
       "         3.3944005 ]),\n",
       " <a list of 15 Patch objects>)"
      ]
     },
     "execution_count": 117,
     "metadata": {},
     "output_type": "execute_result"
    },
    {
     "data": {
      "image/png": "[encoded data removed]",
      "text/plain": [
       "<matplotlib.figure.Figure at 0x7fd447daf9e8>"
      ]
     },
     "metadata": {},
     "output_type": "display_data"
    }
   ],
   "source": [
    "plt.hist(np.random.normal(size=300),bins=15,edgecolor='black') #Plotando o histograma de uma distribuição uniforme"
   ]
  },
  {
   "cell_type": "code",
   "execution_count": 118,
   "metadata": {},
   "outputs": [
    {
     "data": {
      "text/plain": [
       "(array([104.,  68.,  50.,  26.,  16.,  11.,   8.,   9.,   3.,   2.,   2.,\n",
       "          0.,   0.,   0.,   1.]),\n",
       " array([4.73636227e-04, 4.86525820e-01, 9.72578005e-01, 1.45863019e+00,\n",
       "        1.94468237e+00, 2.43073456e+00, 2.91678674e+00, 3.40283893e+00,\n",
       "        3.88889111e+00, 4.37494329e+00, 4.86099548e+00, 5.34704766e+00,\n",
       "        5.83309985e+00, 6.31915203e+00, 6.80520421e+00, 7.29125640e+00]),\n",
       " <a list of 15 Patch objects>)"
      ]
     },
     "execution_count": 118,
     "metadata": {},
     "output_type": "execute_result"
    },
    {
     "data": {
      "image/png": "[encoded data removed]",
      "text/plain": [
       "<matplotlib.figure.Figure at 0x7fd43f64c780>"
      ]
     },
     "metadata": {},
     "output_type": "display_data"
    }
   ],
   "source": [
    "plt.hist(np.random.exponential(size=300),bins=15,edgecolor='black') #Plotando o histograma de uma distribuição uniforme"
   ]
  },
  {
   "cell_type": "markdown",
   "metadata": {},
   "source": [
    "### max, min, argmax, argmin, média, mediana e moda"
   ]
  },
  {
   "cell_type": "code",
   "execution_count": 130,
   "metadata": {},
   "outputs": [
    {
     "data": {
      "text/plain": [
       "array([16, 11,  1,  0,  7, 12,  3,  1,  1,  0,  5,  3, 17,  5, 18])"
      ]
     },
     "execution_count": 130,
     "metadata": {},
     "output_type": "execute_result"
    }
   ],
   "source": [
    "rand_arr = np.random.randint(0,20,15)\n",
    "rand_arr"
   ]
  },
  {
   "cell_type": "code",
   "execution_count": 131,
   "metadata": {
    "scrolled": true
   },
   "outputs": [
    {
     "data": {
      "text/plain": [
       "18"
      ]
     },
     "execution_count": 131,
     "metadata": {},
     "output_type": "execute_result"
    }
   ],
   "source": [
    "rand_arr.max() #retorna o valor máximo"
   ]
  },
  {
   "cell_type": "code",
   "execution_count": 132,
   "metadata": {},
   "outputs": [
    {
     "data": {
      "text/plain": [
       "0"
      ]
     },
     "execution_count": 132,
     "metadata": {},
     "output_type": "execute_result"
    }
   ],
   "source": [
    "rand_arr.min() #retorna o valor minimo"
   ]
  },
  {
   "cell_type": "code",
   "execution_count": 133,
   "metadata": {},
   "outputs": [
    {
     "data": {
      "text/plain": [
       "14"
      ]
     },
     "execution_count": 133,
     "metadata": {},
     "output_type": "execute_result"
    }
   ],
   "source": [
    "rand_arr.argmax() #retorna o index do valor máximo"
   ]
  },
  {
   "cell_type": "code",
   "execution_count": 134,
   "metadata": {},
   "outputs": [
    {
     "data": {
      "text/plain": [
       "7"
      ]
     },
     "execution_count": 134,
     "metadata": {},
     "output_type": "execute_result"
    }
   ],
   "source": [
    "rand_arr[4]"
   ]
  },
  {
   "cell_type": "code",
   "execution_count": 135,
   "metadata": {},
   "outputs": [
    {
     "data": {
      "text/plain": [
       "3"
      ]
     },
     "execution_count": 135,
     "metadata": {},
     "output_type": "execute_result"
    }
   ],
   "source": [
    "rand_arr.argmin() #retorna o index do valor minimo"
   ]
  },
  {
   "cell_type": "code",
   "execution_count": 136,
   "metadata": {},
   "outputs": [
    {
     "data": {
      "text/plain": [
       "0"
      ]
     },
     "execution_count": 136,
     "metadata": {},
     "output_type": "execute_result"
    }
   ],
   "source": [
    "rand_arr[rand_arr.argmin()] # retorna o menor valor do array"
   ]
  },
  {
   "cell_type": "code",
   "execution_count": 137,
   "metadata": {},
   "outputs": [
    {
     "data": {
      "text/plain": [
       "6.666666666666667"
      ]
     },
     "execution_count": 137,
     "metadata": {},
     "output_type": "execute_result"
    }
   ],
   "source": [
    "rand_arr.mean() # calculando a média"
   ]
  },
  {
   "cell_type": "code",
   "execution_count": 138,
   "metadata": {},
   "outputs": [
    {
     "data": {
      "text/plain": [
       "5.0"
      ]
     },
     "execution_count": 138,
     "metadata": {},
     "output_type": "execute_result"
    }
   ],
   "source": [
    "np.median(rand_arr) # calculando a mediana"
   ]
  },
  {
   "cell_type": "code",
   "execution_count": 145,
   "metadata": {},
   "outputs": [
    {
     "data": {
      "text/plain": [
       "1"
      ]
     },
     "execution_count": 145,
     "metadata": {},
     "output_type": "execute_result"
    }
   ],
   "source": [
    "np.argmax(np.bincount(rand_arr)) # calculando a moda"
   ]
  },
  {
   "cell_type": "markdown",
   "metadata": {},
   "source": [
    "---"
   ]
  },
  {
   "cell_type": "markdown",
   "metadata": {},
   "source": [
    "### Operadores de comparação"
   ]
  },
  {
   "cell_type": "code",
   "execution_count": 148,
   "metadata": {},
   "outputs": [
    {
     "data": {
      "text/plain": [
       "array([16, 11,  1,  0,  7, 12,  3,  1,  1,  0,  5,  3, 17,  5, 18])"
      ]
     },
     "execution_count": 148,
     "metadata": {},
     "output_type": "execute_result"
    }
   ],
   "source": [
    "rand_arr"
   ]
  },
  {
   "cell_type": "code",
   "execution_count": 150,
   "metadata": {},
   "outputs": [
    {
     "data": {
      "text/plain": [
       "array([ True,  True, False, False,  True,  True, False, False, False,\n",
       "       False, False, False,  True, False,  True])"
      ]
     },
     "execution_count": 150,
     "metadata": {},
     "output_type": "execute_result"
    }
   ],
   "source": [
    "rand_arr > 5 # Ao fazer esta comparação será retornado um booleano"
   ]
  },
  {
   "cell_type": "code",
   "execution_count": 151,
   "metadata": {},
   "outputs": [
    {
     "data": {
      "text/plain": [
       "array([16, 11,  7, 12, 17, 18])"
      ]
     },
     "execution_count": 151,
     "metadata": {},
     "output_type": "execute_result"
    }
   ],
   "source": [
    "rand_arr[rand_arr > 5] # Retornando todos os itens maiores que 5"
   ]
  },
  {
   "cell_type": "code",
   "execution_count": 152,
   "metadata": {},
   "outputs": [
    {
     "data": {
      "text/plain": [
       "array([1, 0, 7, 3, 1, 1, 0, 5, 3, 5])"
      ]
     },
     "execution_count": 152,
     "metadata": {},
     "output_type": "execute_result"
    }
   ],
   "source": [
    "rand_arr[rand_arr<10] # Retornando todos os itens menores que 10"
   ]
  },
  {
   "cell_type": "code",
   "execution_count": 153,
   "metadata": {},
   "outputs": [
    {
     "data": {
      "text/plain": [
       "array([16, 11,  0,  7, 12,  3,  0,  5,  3, 17,  5, 18])"
      ]
     },
     "execution_count": 153,
     "metadata": {},
     "output_type": "execute_result"
    }
   ],
   "source": [
    "rand_arr[rand_arr!=1] # Retornando todos os itens diferentes de 1"
   ]
  },
  {
   "cell_type": "markdown",
   "metadata": {},
   "source": [
    "---"
   ]
  },
  {
   "cell_type": "markdown",
   "metadata": {},
   "source": [
    "### Operações\n",
    "\n",
    "O numpy permite operações do seguinte tipo:\n",
    "\n",
    "<ol>\n",
    "    <li> Array com Array; e</li>\n",
    "    <li> Array com escalar.</li>\n",
    "</ol>"
   ]
  },
  {
   "cell_type": "markdown",
   "metadata": {},
   "source": [
    "#### Array com array"
   ]
  },
  {
   "cell_type": "code",
   "execution_count": 155,
   "metadata": {},
   "outputs": [
    {
     "data": {
      "text/plain": [
       "array([0, 6, 1, 3, 1, 9, 0, 8, 3, 2, 4, 6, 6, 3, 9])"
      ]
     },
     "execution_count": 155,
     "metadata": {},
     "output_type": "execute_result"
    }
   ],
   "source": [
    "arr1 = np.random.randint(0,10,15)\n",
    "arr1"
   ]
  },
  {
   "cell_type": "code",
   "execution_count": 156,
   "metadata": {},
   "outputs": [
    {
     "data": {
      "text/plain": [
       "array([5, 3, 2, 3, 9, 4, 9, 9, 0, 5, 6, 4, 3, 5, 8])"
      ]
     },
     "execution_count": 156,
     "metadata": {},
     "output_type": "execute_result"
    }
   ],
   "source": [
    "arr2 = np.random.randint(0,10,15)\n",
    "arr2"
   ]
  },
  {
   "cell_type": "code",
   "execution_count": 157,
   "metadata": {},
   "outputs": [
    {
     "data": {
      "text/plain": [
       "array([ 5,  9,  3,  6, 10, 13,  9, 17,  3,  7, 10, 10,  9,  8, 17])"
      ]
     },
     "execution_count": 157,
     "metadata": {},
     "output_type": "execute_result"
    }
   ],
   "source": [
    "arr1+arr2 # Soma entre dois arrays"
   ]
  },
  {
   "cell_type": "code",
   "execution_count": 158,
   "metadata": {},
   "outputs": [
    {
     "data": {
      "text/plain": [
       "array([-5,  3, -1,  0, -8,  5, -9, -1,  3, -3, -2,  2,  3, -2,  1])"
      ]
     },
     "execution_count": 158,
     "metadata": {},
     "output_type": "execute_result"
    }
   ],
   "source": [
    "arr1-arr2 # Subtração entre dois arrays"
   ]
  },
  {
   "cell_type": "code",
   "execution_count": 159,
   "metadata": {},
   "outputs": [
    {
     "name": "stderr",
     "output_type": "stream",
     "text": [
      "/home/alexsandro/anaconda3/lib/python3.6/site-packages/ipykernel_launcher.py:1: RuntimeWarning: divide by zero encountered in true_divide\n",
      "  \"\"\"Entry point for launching an IPython kernel.\n"
     ]
    },
    {
     "data": {
      "text/plain": [
       "array([0.        , 2.        , 0.5       , 1.        , 0.11111111,\n",
       "       2.25      , 0.        , 0.88888889,        inf, 0.4       ,\n",
       "       0.66666667, 1.5       , 2.        , 0.6       , 1.125     ])"
      ]
     },
     "execution_count": 159,
     "metadata": {},
     "output_type": "execute_result"
    }
   ],
   "source": [
    "arr1/arr2 # Divisão"
   ]
  },
  {
   "cell_type": "code",
   "execution_count": 160,
   "metadata": {},
   "outputs": [
    {
     "data": {
      "text/plain": [
       "array([ 0, 18,  2,  9,  9, 36,  0, 72,  0, 10, 24, 24, 18, 15, 72])"
      ]
     },
     "execution_count": 160,
     "metadata": {},
     "output_type": "execute_result"
    }
   ],
   "source": [
    "arr1*arr2 # Multiplicação"
   ]
  },
  {
   "cell_type": "markdown",
   "metadata": {},
   "source": [
    "#### Array com escalares"
   ]
  },
  {
   "cell_type": "code",
   "execution_count": 161,
   "metadata": {},
   "outputs": [
    {
     "data": {
      "text/plain": [
       "array([0, 6, 1, 3, 1, 9, 0, 8, 3, 2, 4, 6, 6, 3, 9])"
      ]
     },
     "execution_count": 161,
     "metadata": {},
     "output_type": "execute_result"
    }
   ],
   "source": [
    "arr1"
   ]
  },
  {
   "cell_type": "code",
   "execution_count": 162,
   "metadata": {},
   "outputs": [
    {
     "data": {
      "text/plain": [
       "array([10, 16, 11, 13, 11, 19, 10, 18, 13, 12, 14, 16, 16, 13, 19])"
      ]
     },
     "execution_count": 162,
     "metadata": {},
     "output_type": "execute_result"
    }
   ],
   "source": [
    "10+arr1"
   ]
  },
  {
   "cell_type": "code",
   "execution_count": 176,
   "metadata": {},
   "outputs": [
    {
     "name": "stderr",
     "output_type": "stream",
     "text": [
      "/home/alexsandro/anaconda3/lib/python3.6/site-packages/ipykernel_launcher.py:1: RuntimeWarning: divide by zero encountered in true_divide\n",
      "  \"\"\"Entry point for launching an IPython kernel.\n"
     ]
    },
    {
     "data": {
      "text/plain": [
       "array([       inf, 0.16666667, 1.        , 0.33333333, 1.        ,\n",
       "       0.11111111,        inf, 0.125     , 0.33333333, 0.5       ,\n",
       "       0.25      , 0.16666667, 0.16666667, 0.33333333, 0.11111111])"
      ]
     },
     "execution_count": 176,
     "metadata": {},
     "output_type": "execute_result"
    }
   ],
   "source": [
    "1/arr1"
   ]
  },
  {
   "cell_type": "code",
   "execution_count": 177,
   "metadata": {},
   "outputs": [
    {
     "data": {
      "text/plain": [
       "array([  0, 600, 100, 300, 100, 900,   0, 800, 300, 200, 400, 600, 600,\n",
       "       300, 900])"
      ]
     },
     "execution_count": 177,
     "metadata": {},
     "output_type": "execute_result"
    }
   ],
   "source": [
    "arr1*100"
   ]
  },
  {
   "cell_type": "markdown",
   "metadata": {},
   "source": [
    "#### Funções intrínsecas"
   ]
  },
  {
   "cell_type": "code",
   "execution_count": 179,
   "metadata": {},
   "outputs": [
    {
     "data": {
      "text/plain": [
       "array([ 0.        , -0.2794155 ,  0.84147098,  0.14112001,  0.84147098,\n",
       "        0.41211849,  0.        ,  0.98935825,  0.14112001,  0.90929743,\n",
       "       -0.7568025 , -0.2794155 , -0.2794155 ,  0.14112001,  0.41211849])"
      ]
     },
     "execution_count": 179,
     "metadata": {},
     "output_type": "execute_result"
    }
   ],
   "source": [
    "np.sin(arr1)"
   ]
  },
  {
   "cell_type": "code",
   "execution_count": 178,
   "metadata": {},
   "outputs": [
    {
     "data": {
      "text/plain": [
       "array([ 1.        ,  0.96017029,  0.54030231, -0.9899925 ,  0.54030231,\n",
       "       -0.91113026,  1.        , -0.14550003, -0.9899925 , -0.41614684,\n",
       "       -0.65364362,  0.96017029,  0.96017029, -0.9899925 , -0.91113026])"
      ]
     },
     "execution_count": 178,
     "metadata": {},
     "output_type": "execute_result"
    }
   ],
   "source": [
    "np.cos(arr1)"
   ]
  },
  {
   "cell_type": "code",
   "execution_count": 180,
   "metadata": {},
   "outputs": [
    {
     "data": {
      "text/plain": [
       "array([1.00000000e+00, 4.03428793e+02, 2.71828183e+00, 2.00855369e+01,\n",
       "       2.71828183e+00, 8.10308393e+03, 1.00000000e+00, 2.98095799e+03,\n",
       "       2.00855369e+01, 7.38905610e+00, 5.45981500e+01, 4.03428793e+02,\n",
       "       4.03428793e+02, 2.00855369e+01, 8.10308393e+03])"
      ]
     },
     "execution_count": 180,
     "metadata": {},
     "output_type": "execute_result"
    }
   ],
   "source": [
    "np.exp(arr1)"
   ]
  },
  {
   "cell_type": "code",
   "execution_count": 181,
   "metadata": {},
   "outputs": [
    {
     "name": "stderr",
     "output_type": "stream",
     "text": [
      "/home/alexsandro/anaconda3/lib/python3.6/site-packages/ipykernel_launcher.py:1: RuntimeWarning: divide by zero encountered in log\n",
      "  \"\"\"Entry point for launching an IPython kernel.\n"
     ]
    },
    {
     "data": {
      "text/plain": [
       "array([      -inf, 1.79175947, 0.        , 1.09861229, 0.        ,\n",
       "       2.19722458,       -inf, 2.07944154, 1.09861229, 0.69314718,\n",
       "       1.38629436, 1.79175947, 1.79175947, 1.09861229, 2.19722458])"
      ]
     },
     "execution_count": 181,
     "metadata": {},
     "output_type": "execute_result"
    }
   ],
   "source": [
    "np.log(arr1)"
   ]
  },
  {
   "cell_type": "markdown",
   "metadata": {},
   "source": [
    "----"
   ]
  },
  {
   "cell_type": "markdown",
   "metadata": {},
   "source": [
    "### Funções interessantes de algebra linear\n",
    "\n",
    " <center> <a href=\"https://docs.scipy.org/doc/numpy-1.13.0/reference/routines.linalg.html\"> Scipy - Linear Algebra </a> "
   ]
  },
  {
   "cell_type": "code",
   "execution_count": 173,
   "metadata": {},
   "outputs": [],
   "source": [
    "m = np.random.randint(0,10,(4,4))"
   ]
  },
  {
   "cell_type": "code",
   "execution_count": 182,
   "metadata": {},
   "outputs": [
    {
     "data": {
      "text/plain": [
       "array([[8, 6, 2, 0],\n",
       "       [1, 3, 8, 1],\n",
       "       [0, 9, 6, 0],\n",
       "       [8, 6, 0, 6]])"
      ]
     },
     "execution_count": 182,
     "metadata": {},
     "output_type": "execute_result"
    }
   ],
   "source": [
    "m"
   ]
  },
  {
   "cell_type": "code",
   "execution_count": 194,
   "metadata": {},
   "outputs": [
    {
     "data": {
      "text/plain": [
       "-2843.9999999999995"
      ]
     },
     "execution_count": 194,
     "metadata": {},
     "output_type": "execute_result"
    }
   ],
   "source": [
    "np.linalg.det(m) # Calculo da determinante da matriz m"
   ]
  },
  {
   "cell_type": "code",
   "execution_count": 174,
   "metadata": {},
   "outputs": [
    {
     "data": {
      "text/plain": [
       "array([[ 0.12658228,  0.03797468, -0.092827  , -0.00632911],\n",
       "       [-0.00421941, -0.10126582,  0.13642757,  0.01687764],\n",
       "       [ 0.00632911,  0.15189873, -0.03797468, -0.02531646],\n",
       "       [-0.16455696,  0.05063291, -0.01265823,  0.15822785]])"
      ]
     },
     "execution_count": 174,
     "metadata": {},
     "output_type": "execute_result"
    }
   ],
   "source": [
    "np.linalg.inv(m) # Calculo da matriz inversa"
   ]
  },
  {
   "cell_type": "code",
   "execution_count": 175,
   "metadata": {},
   "outputs": [
    {
     "name": "stdout",
     "output_type": "stream",
     "text": [
      "[[ 1.00000000e+00 -1.11022302e-16  0.00000000e+00  0.00000000e+00]\n",
      " [ 2.77555756e-17  1.00000000e+00  0.00000000e+00  0.00000000e+00]\n",
      " [ 0.00000000e+00  0.00000000e+00  1.00000000e+00  0.00000000e+00]\n",
      " [ 2.22044605e-16 -5.55111512e-17  0.00000000e+00  1.00000000e+00]]\n"
     ]
    }
   ],
   "source": [
    "print(np.dot(m,np.linalg.inv(m))) # Calculo do produto escalar"
   ]
  },
  {
   "cell_type": "code",
   "execution_count": 184,
   "metadata": {},
   "outputs": [],
   "source": [
    "auto_valores, auto_vetor = np.linalg.eig(m) # Obtendo os auto valores e os auto vetores"
   ]
  },
  {
   "cell_type": "code",
   "execution_count": 185,
   "metadata": {},
   "outputs": [
    {
     "data": {
      "text/plain": [
       "array([14.53793201+0.        j,  6.48406076+1.17091284j,\n",
       "        6.48406076-1.17091284j, -4.50605354+0.        j])"
      ]
     },
     "execution_count": 185,
     "metadata": {},
     "output_type": "execute_result"
    }
   ],
   "source": [
    "auto_valores #auto valores"
   ]
  },
  {
   "cell_type": "code",
   "execution_count": 186,
   "metadata": {},
   "outputs": [
    {
     "data": {
      "text/plain": [
       "array([[-0.46456089+0.        j,  0.06155379+0.15663227j,\n",
       "         0.06155379-0.15663227j,  0.24562059+0.        j],\n",
       "       [-0.37459028+0.        j, -0.00327122-0.01822951j,\n",
       "        -0.00327122+0.01822951j, -0.71657517+0.        j],\n",
       "       [-0.39486289+0.        j, -0.12854361-0.02799691j,\n",
       "        -0.12854361+0.02799691j,  0.61385338+0.        j],\n",
       "       [-0.69853318+0.        j,  0.97674314+0.        j,\n",
       "         0.97674314-0.        j,  0.22220392+0.        j]])"
      ]
     },
     "execution_count": 186,
     "metadata": {},
     "output_type": "execute_result"
    }
   ],
   "source": [
    "auto_vetor #auto vetores"
   ]
  },
  {
   "cell_type": "code",
   "execution_count": 187,
   "metadata": {},
   "outputs": [
    {
     "data": {
      "text/plain": [
       "array([[8, 6, 2, 0],\n",
       "       [1, 3, 8, 1],\n",
       "       [0, 9, 6, 0],\n",
       "       [8, 6, 0, 6]])"
      ]
     },
     "execution_count": 187,
     "metadata": {},
     "output_type": "execute_result"
    }
   ],
   "source": [
    "m"
   ]
  },
  {
   "cell_type": "code",
   "execution_count": 193,
   "metadata": {},
   "outputs": [
    {
     "data": {
      "text/plain": [
       "(array([[-0.70436073,  0.0150444 ,  0.09929021, -0.7027027 ],\n",
       "        [-0.08804509, -0.24071039,  0.9421025 ,  0.21621622],\n",
       "        [-0.        , -0.97036377, -0.23552562, -0.05405405],\n",
       "        [-0.70436073,  0.0150444 , -0.21705303,  0.67567568]]),\n",
       " array([[-11.35781669,  -8.71646397,  -2.11308218,  -4.31420944],\n",
       "        [  0.        ,  -9.27487228,  -7.71777693,  -0.15044399],\n",
       "        [  0.        ,   0.        ,   6.32224667,  -0.36021566],\n",
       "        [  0.        ,   0.        ,   0.        ,   4.27027027]]))"
      ]
     },
     "execution_count": 193,
     "metadata": {},
     "output_type": "execute_result"
    }
   ],
   "source": [
    "np.linalg.qr(m) # Decomposição (QR) M = QR (R é uma matriz triângular superior)"
   ]
  },
  {
   "cell_type": "code",
   "execution_count": 192,
   "metadata": {},
   "outputs": [
    {
     "data": {
      "text/plain": [
       "array([[ 8.00000000e+00,  6.00000000e+00,  2.00000000e+00,\n",
       "         0.00000000e+00],\n",
       "       [ 1.00000000e+00,  3.00000000e+00,  8.00000000e+00,\n",
       "         1.00000000e+00],\n",
       "       [ 0.00000000e+00,  9.00000000e+00,  6.00000000e+00,\n",
       "        -1.24900090e-16],\n",
       "       [ 8.00000000e+00,  6.00000000e+00,  2.77555756e-17,\n",
       "         6.00000000e+00]])"
      ]
     },
     "execution_count": 192,
     "metadata": {},
     "output_type": "execute_result"
    }
   ],
   "source": [
    "np.matmul(np.linalg.qr(m)[0],np.linalg.qr(m)[1]) # Multiplicando as matriz Q e R"
   ]
  },
  {
   "cell_type": "markdown",
   "metadata": {},
   "source": []
  },
  {
   "cell_type": "markdown",
   "metadata": {},
   "source": [
    "### Input e output\n",
    "\n",
    " <center> <a href=\"https://docs.scipy.org/doc/numpy-1.13.0/reference/routines.io.html\"> Input and output </a> "
   ]
  },
  {
   "cell_type": "code",
   "execution_count": 257,
   "metadata": {},
   "outputs": [],
   "source": [
    "arr1 = np.linspace(0,10,11)\n",
    "arr2 = np.linspace(0,5,11)"
   ]
  },
  {
   "cell_type": "code",
   "execution_count": 258,
   "metadata": {},
   "outputs": [
    {
     "data": {
      "text/plain": [
       "array([ 0.,  1.,  2.,  3.,  4.,  5.,  6.,  7.,  8.,  9., 10.])"
      ]
     },
     "execution_count": 258,
     "metadata": {},
     "output_type": "execute_result"
    }
   ],
   "source": [
    "arr1"
   ]
  },
  {
   "cell_type": "code",
   "execution_count": 259,
   "metadata": {},
   "outputs": [
    {
     "data": {
      "text/plain": [
       "array([0. , 0.5, 1. , 1.5, 2. , 2.5, 3. , 3.5, 4. , 4.5, 5. ])"
      ]
     },
     "execution_count": 259,
     "metadata": {},
     "output_type": "execute_result"
    }
   ],
   "source": [
    "arr2"
   ]
  },
  {
   "cell_type": "code",
   "execution_count": 260,
   "metadata": {},
   "outputs": [],
   "source": [
    "data = np.concatenate((arr1,arr2)).reshape(2,len(arr1))"
   ]
  },
  {
   "cell_type": "code",
   "execution_count": 263,
   "metadata": {},
   "outputs": [
    {
     "data": {
      "text/plain": [
       "array([[ 0. ,  1. ,  2. ,  3. ,  4. ,  5. ,  6. ,  7. ,  8. ,  9. , 10. ],\n",
       "       [ 0. ,  0.5,  1. ,  1.5,  2. ,  2.5,  3. ,  3.5,  4. ,  4.5,  5. ]])"
      ]
     },
     "execution_count": 263,
     "metadata": {},
     "output_type": "execute_result"
    }
   ],
   "source": [
    "data"
   ]
  },
  {
   "cell_type": "code",
   "execution_count": 266,
   "metadata": {},
   "outputs": [
    {
     "data": {
      "text/plain": [
       "array([[ 0. ,  0. ],\n",
       "       [ 1. ,  0.5],\n",
       "       [ 2. ,  1. ],\n",
       "       [ 3. ,  1.5],\n",
       "       [ 4. ,  2. ],\n",
       "       [ 5. ,  2.5],\n",
       "       [ 6. ,  3. ],\n",
       "       [ 7. ,  3.5],\n",
       "       [ 8. ,  4. ],\n",
       "       [ 9. ,  4.5],\n",
       "       [10. ,  5. ]])"
      ]
     },
     "execution_count": 266,
     "metadata": {},
     "output_type": "execute_result"
    }
   ],
   "source": [
    "data = data.T\n",
    "data"
   ]
  },
  {
   "cell_type": "code",
   "execution_count": 276,
   "metadata": {},
   "outputs": [],
   "source": [
    "np.savetxt('arquivo.txt',data,header=\"col1 \\t \\t \\t col2\",comments='') # Salvando arrays em um txt"
   ]
  },
  {
   "cell_type": "code",
   "execution_count": 268,
   "metadata": {},
   "outputs": [],
   "source": [
    "t1, t2 = np.loadtxt('arquivo.txt',unpack=True) # Carregando arquivos"
   ]
  },
  {
   "cell_type": "code",
   "execution_count": 269,
   "metadata": {},
   "outputs": [
    {
     "data": {
      "text/plain": [
       "array([ 0.,  1.,  2.,  3.,  4.,  5.,  6.,  7.,  8.,  9., 10.])"
      ]
     },
     "execution_count": 269,
     "metadata": {},
     "output_type": "execute_result"
    }
   ],
   "source": [
    "t1"
   ]
  },
  {
   "cell_type": "code",
   "execution_count": 270,
   "metadata": {},
   "outputs": [
    {
     "data": {
      "text/plain": [
       "array([0. , 0.5, 1. , 1.5, 2. , 2.5, 3. , 3.5, 4. , 4.5, 5. ])"
      ]
     },
     "execution_count": 270,
     "metadata": {},
     "output_type": "execute_result"
    }
   ],
   "source": [
    "t2"
   ]
  },
  {
   "cell_type": "markdown",
   "metadata": {},
   "source": [
    "#### Salvando e carregando um arquivo binário"
   ]
  },
  {
   "cell_type": "code",
   "execution_count": 271,
   "metadata": {},
   "outputs": [],
   "source": [
    "np.save('arquivo.npy',np.asarray([arr1,arr2])) # Salvando em um arquivo binário"
   ]
  },
  {
   "cell_type": "code",
   "execution_count": 274,
   "metadata": {},
   "outputs": [
    {
     "data": {
      "text/plain": [
       "array([[ 0. ,  1. ,  2. ,  3. ,  4. ,  5. ,  6. ,  7. ,  8. ,  9. , 10. ],\n",
       "       [ 0. ,  0.5,  1. ,  1.5,  2. ,  2.5,  3. ,  3.5,  4. ,  4.5,  5. ]])"
      ]
     },
     "execution_count": 274,
     "metadata": {},
     "output_type": "execute_result"
    }
   ],
   "source": [
    "np.load('arquivo.npy') # Carregando arquivo binário"
   ]
  }
 ],
 "metadata": {
  "kernelspec": {
   "display_name": "Python 3",
   "language": "python",
   "name": "python3"
  },
  "language_info": {
   "codemirror_mode": {
    "name": "ipython",
    "version": 3
   },
   "file_extension": ".py",
   "mimetype": "text/x-python",
   "name": "python",
   "nbconvert_exporter": "python",
   "pygments_lexer": "ipython3",
   "version": "3.6.4"
  }
 },
 "nbformat": 4,
 "nbformat_minor": 2
}
